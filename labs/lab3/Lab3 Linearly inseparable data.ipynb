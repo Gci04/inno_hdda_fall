{
 "cells": [
  {
   "cell_type": "code",
   "execution_count": null,
   "metadata": {},
   "outputs": [],
   "source": [
    "import matplotlib.pyplot as plt\n",
    "%matplotlib inline"
   ]
  },
  {
   "cell_type": "code",
   "execution_count": null,
   "metadata": {},
   "outputs": [],
   "source": [
    "from sklearn.datasets import make_circles\n",
    "\n",
    "X, y = make_circles(n_samples=1000, factor=.3, noise=.05)\n",
    "\n",
    "reds = y == 0\n",
    "blues = y == 1"
   ]
  },
  {
   "cell_type": "code",
   "execution_count": null,
   "metadata": {},
   "outputs": [],
   "source": [
    "plt.scatter(X[reds, 0], X[reds, 1], c=\"red\", s=10, edgecolor='k')\n",
    "plt.scatter(X[blues, 0], X[blues, 1], c=\"blue\", s=10, edgecolor='k')\n",
    "plt.xlabel(\"$x_1$\")\n",
    "plt.ylabel(\"$x_2$\")"
   ]
  },
  {
   "cell_type": "code",
   "execution_count": null,
   "metadata": {},
   "outputs": [],
   "source": [
    "from sklearn.cluster import KMeans"
   ]
  },
  {
   "cell_type": "code",
   "execution_count": null,
   "metadata": {
    "scrolled": false
   },
   "outputs": [],
   "source": [
    "kmeans = KMeans(n_clusters = 2, random_state = 0)                   \n",
    "kmeans.fit_predict(X)\n",
    "k_reds = kmeans.labels_ == 0\n",
    "k_blues = kmeans.labels_ == 1\n",
    "plt.scatter(X[k_reds, 0], X[k_reds, 1], c=\"red\", s=10, edgecolor='k')\n",
    "plt.scatter(X[k_blues, 0], X[k_blues, 1], c=\"blue\", s=10, edgecolor='k')\n",
    "plt.scatter(kmeans.cluster_centers_[:, 0], kmeans.cluster_centers_[:, 1], s = 50, c = 'red')\n",
    "plt.xlabel(\"$x_1$\")\n",
    "plt.ylabel(\"$x_2$\")"
   ]
  },
  {
   "cell_type": "code",
   "execution_count": null,
   "metadata": {},
   "outputs": [],
   "source": [
    "from sklearn.datasets import make_blobs"
   ]
  },
  {
   "cell_type": "code",
   "execution_count": null,
   "metadata": {},
   "outputs": [],
   "source": [
    "n=4000\n",
    "X, y = make_blobs(n_samples = n, n_features = 17,random_state = 3)\n",
    "plt.scatter(X[:,0], X[:,1], s=10, edgecolor='k')\n",
    "print(y[:35])"
   ]
  },
  {
   "cell_type": "code",
   "execution_count": null,
   "metadata": {},
   "outputs": [],
   "source": [
    "kmeans = KMeans(n_clusters = 3, random_state = 0)                   \n",
    "kmeans.fit_predict(X)\n",
    "\n",
    "k_reds = kmeans.labels_ == 0\n",
    "k_blues = kmeans.labels_ == 1\n",
    "k_greens = kmeans.labels_ == 2\n",
    "\n",
    "plt.scatter(X[k_reds, 0], X[k_reds, 1], c=\"red\", s=10, edgecolor='k')\n",
    "plt.scatter(X[k_blues, 0], X[k_blues, 1], c=\"blue\", s=10, edgecolor='k')\n",
    "plt.scatter(X[k_greens, 0], X[k_greens, 1], c=\"green\", s=10, edgecolor='k')\n",
    "plt.scatter(kmeans.cluster_centers_[:, 0], kmeans.cluster_centers_[:, 1], s = 50, c = 'red')"
   ]
  },
  {
   "cell_type": "code",
   "execution_count": null,
   "metadata": {},
   "outputs": [],
   "source": [
    "n=1500\n",
    "X, y = make_blobs(n_samples = n, n_features = 17,random_state = 1001, centers=4,\n",
    "                  cluster_std=1,\n",
    "                  center_box=(-10.0, 10.0),\n",
    "                  shuffle=True)\n",
    "plt.scatter(X[:,0], X[:,1], s=10, edgecolor='k')"
   ]
  },
  {
   "cell_type": "code",
   "execution_count": null,
   "metadata": {},
   "outputs": [],
   "source": [
    "print(y[:20])\n",
    "reds = y == 0\n",
    "blues = y == 1\n",
    "greens = y == 2\n",
    "yellow = y == 3\n",
    "\n",
    "plt.scatter(X[reds, 0], X[reds, 1], c=\"red\", s=10, edgecolor='k')\n",
    "plt.scatter(X[blues, 0], X[blues, 1], c=\"blue\", s=10, edgecolor='k')\n",
    "plt.scatter(X[greens, 0], X[greens, 1], c=\"green\", s=10, edgecolor='k')\n",
    "plt.scatter(X[yellow, 0], X[yellow, 1], c=\"yellow\", s=10, edgecolor='k')"
   ]
  },
  {
   "cell_type": "code",
   "execution_count": null,
   "metadata": {},
   "outputs": [],
   "source": [
    "kmeans = KMeans(n_clusters = 3, random_state = 0)                   \n",
    "kmeans.fit_predict(X)\n",
    "\n",
    "k_reds = kmeans.labels_ == 0\n",
    "k_blues = kmeans.labels_ == 1\n",
    "k_greens = kmeans.labels_ == 2\n",
    "\n",
    "plt.scatter(X[k_reds, 0], X[k_reds, 1], c=\"red\", s=10, edgecolor='k')\n",
    "plt.scatter(X[k_blues, 0], X[k_blues, 1], c=\"blue\", s=10, edgecolor='k')\n",
    "plt.scatter(X[k_greens, 0], X[k_greens, 1], c=\"green\", s=10, edgecolor='k')\n",
    "plt.scatter(kmeans.cluster_centers_[:, 0], kmeans.cluster_centers_[:, 1], s = 50, c = 'red')"
   ]
  },
  {
   "cell_type": "markdown",
   "metadata": {},
   "source": [
    "### Plotly\n",
    "[plotly](https://plot.ly/feed/#/)\n",
    "\n",
    "```sh\n",
    "> pip install plotly\n",
    "\n",
    "> pip install plotly --upgrade\n",
    "```\n",
    "\n",
    "### Plotly API key\n",
    "Generate your API key [here](https://plot.ly/settings/api#/)\n",
    "\n",
    "### Use Case\n",
    "```python\n",
    "import plotly\n",
    "plotly.tools.set_credentials_file(username='DemoAccount', api_key='lr1c37zw81')\n",
    "```\n"
   ]
  },
  {
   "cell_type": "code",
   "execution_count": null,
   "metadata": {},
   "outputs": [],
   "source": [
    "import plotly\n",
    "import plotly.plotly as py\n",
    "import plotly.graph_objs as go\n",
    "from plotly import tools\n",
    "plotly.tools.set_credentials_file(username='cubazis', api_key='SYxfBgb5FRJR8sLir6LE')\n",
    "from __future__ import print_function\n",
    "\n",
    "from sklearn.datasets import make_blobs\n",
    "from sklearn.cluster import KMeans\n",
    "from sklearn.metrics import silhouette_samples, silhouette_score\n",
    "\n",
    "import matplotlib\n",
    "import matplotlib.pyplot as plt\n",
    "import matplotlib.cm as cm\n",
    "import numpy as np\n",
    "\n",
    "print(__doc__)"
   ]
  },
  {
   "cell_type": "code",
   "execution_count": null,
   "metadata": {},
   "outputs": [],
   "source": [
    "X, y = make_blobs(n_samples=500,\n",
    "                  n_features=2,\n",
    "                  centers=4,\n",
    "                  cluster_std=1,\n",
    "                  center_box=(-10.0, 10.0),\n",
    "                  shuffle=True,\n",
    "                  random_state=1)  # For reproducibility\n",
    "\n",
    "range_n_clusters = [2, 3, 4, 5, 6, 7, 8]"
   ]
  },
  {
   "cell_type": "code",
   "execution_count": null,
   "metadata": {},
   "outputs": [],
   "source": [
    "figures = []\n",
    "\n",
    "for n_clusters in range_n_clusters:\n",
    "    # Create a subplot with 1 row and 2 columns\n",
    "    fig = tools.make_subplots(rows=1, cols=2,\n",
    "                              print_grid=False,\n",
    "                              subplot_titles=('The silhouette plot for the various clusters.',\n",
    "                                              'The visualization of the clustered data.'))\n",
    "\n",
    "    # The 1st subplot is the silhouette plot\n",
    "    # The silhouette coefficient can range from -1, 1 but in this example all\n",
    "    # lie within [-0.1, 1]\n",
    "    fig['layout']['xaxis1'].update(title='The silhouette coefficient values',\n",
    "                                   range=[-0.1, 1])\n",
    "   \n",
    "    # The (n_clusters+1)*10 is for inserting blank space between silhouette\n",
    "    # plots of individual clusters, to demarcate them clearly.\n",
    "    fig['layout']['yaxis1'].update(title='Cluster label',\n",
    "                                   showticklabels=False,\n",
    "                                   range=[0, len(X) + (n_clusters + 1) * 10])\n",
    "\n",
    "    # Initialize the clusterer with n_clusters value and a random generator\n",
    "    # seed of 10 for reproducibility.\n",
    "    clusterer = KMeans(n_clusters=n_clusters, random_state=10)\n",
    "    cluster_labels = clusterer.fit_predict(X)\n",
    "\n",
    "    # The silhouette_score gives the average value for all the samples.\n",
    "    # This gives a perspective into the density and separation of the formed\n",
    "    # clusters\n",
    "    silhouette_avg = silhouette_score(X, cluster_labels)\n",
    "    print(\"For n_clusters =\", n_clusters,\n",
    "          \"The average silhouette_score is :\", silhouette_avg)\n",
    "\n",
    "    # Compute the silhouette scores for each sample\n",
    "    sample_silhouette_values = silhouette_samples(X, cluster_labels)\n",
    "    y_lower = 10\n",
    "    \n",
    "    for i in range(n_clusters):\n",
    "        # Aggregate the silhouette scores for samples belonging to\n",
    "        # cluster i, and sort them\n",
    "        ith_cluster_silhouette_values = \\\n",
    "            sample_silhouette_values[cluster_labels == i]\n",
    "\n",
    "        ith_cluster_silhouette_values.sort()\n",
    "\n",
    "        size_cluster_i = ith_cluster_silhouette_values.shape[0]\n",
    "        y_upper = y_lower + size_cluster_i\n",
    "\n",
    "        colors = cm.nipy_spectral(cluster_labels.astype(float) / n_clusters)\n",
    "        \n",
    "        filled_area = go.Scatter(y=np.arange(y_lower, y_upper),\n",
    "                                 x=ith_cluster_silhouette_values,\n",
    "                                 mode='lines',\n",
    "                                 showlegend=False,\n",
    "                                 line=dict(width=0.5,\n",
    "                                          color=colors),\n",
    "                                 fill='tozerox')\n",
    "        fig.append_trace(filled_area, 1, 1)\n",
    "        \n",
    "        # Compute the new y_lower for next plot\n",
    "        y_lower = y_upper + 10  # 10 for the 0 samples\n",
    "        \n",
    "\n",
    "    # The vertical line for average silhouette score of all the values\n",
    "    axis_line = go.Scatter(x=[silhouette_avg],\n",
    "                           y=[0, len(X) + (n_clusters + 1) * 10],\n",
    "                           showlegend=False,\n",
    "                           mode='lines',\n",
    "                           line=dict(color=\"red\", dash='dash',\n",
    "                                     width =1) )\n",
    "\n",
    "    fig.append_trace(axis_line, 1, 1)\n",
    "    \n",
    "    # 2nd Plot showing the actual clusters formed\n",
    "    colors = matplotlib.colors.colorConverter.to_rgb(cm.nipy_spectral(float(i) / n_clusters))\n",
    "    colors = 'rgb'+str(colors)\n",
    "    clusters = go.Scatter(x=X[:, 0], \n",
    "                          y=X[:, 1], \n",
    "                          showlegend=False,\n",
    "                          mode='markers',\n",
    "                          marker=dict(color=colors,\n",
    "                                     size=4)\n",
    "                         )\n",
    "    fig.append_trace(clusters, 1, 2)\n",
    "    \n",
    "    # Labeling the clusters\n",
    "    centers_ = clusterer.cluster_centers_\n",
    "    # Draw white circles at cluster centers\n",
    "    centers = go.Scatter(x=centers_[:, 0], \n",
    "                         y=centers_[:, 1],\n",
    "                         showlegend=False,\n",
    "                         mode='markers',\n",
    "                         marker=dict(color='green', size=10,\n",
    "                                     line=dict(color='black',\n",
    "                                                             width=1))\n",
    "                        )\n",
    "\n",
    "    fig.append_trace(centers, 1, 2)\n",
    "    \n",
    "    fig['layout']['xaxis2'].update(title='Feature space for the 1st feature',\n",
    "                                   zeroline=False)\n",
    "    fig['layout']['yaxis2'].update(title='Feature space for the 2nd feature',\n",
    "                                  zeroline=False)\n",
    "                              \n",
    "\n",
    "    fig['layout'].update(title=\"Silhouette analysis for KMeans clustering on sample data \"\n",
    "                         \"with n_clusters = %d\" % n_clusters)\n",
    "    \n",
    "    figures.append(fig)"
   ]
  },
  {
   "cell_type": "code",
   "execution_count": null,
   "metadata": {},
   "outputs": [],
   "source": [
    "py.iplot(figures[0])"
   ]
  }
 ],
 "metadata": {
  "kernelspec": {
   "display_name": "Python 3",
   "language": "python",
   "name": "python3"
  },
  "language_info": {
   "codemirror_mode": {
    "name": "ipython",
    "version": 3
   },
   "file_extension": ".py",
   "mimetype": "text/x-python",
   "name": "python",
   "nbconvert_exporter": "python",
   "pygments_lexer": "ipython3",
   "version": "3.6.5"
  }
 },
 "nbformat": 4,
 "nbformat_minor": 2
}
